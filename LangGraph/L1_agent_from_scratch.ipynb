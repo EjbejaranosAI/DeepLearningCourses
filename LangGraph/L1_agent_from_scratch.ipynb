{
 "cells": [
  {
   "cell_type": "markdown",
   "metadata": {},
   "source": [
    "# Lesson 1: Simple ReAct Agent from Scratch\n",
    "# based on https://til.simonwillison.net/llms/python-react-pattern\n",
    "\n",
    "Lesson inspired in paper: https://arxiv.org/pdf/2210.03629\n",
    "\n"
   ]
  },
  {
   "cell_type": "code",
   "execution_count": 7,
   "metadata": {},
   "outputs": [],
   "source": [
    "!pip install -q -r requirements.txt "
   ]
  },
  {
   "cell_type": "markdown",
   "metadata": {},
   "source": [
    "## Build an agent"
   ]
  },
  {
   "cell_type": "code",
   "execution_count": 21,
   "metadata": {},
   "outputs": [],
   "source": [
    "import os \n",
    "import re \n",
    "import httpx\n",
    "import openai\n",
    "from openai import OpenAI\n",
    "\n",
    "client = openai.OpenAI(api_key='sk-proj-5ne45azAu2oQ0FwD9vmAT3BlbkFJtX54vY2F160vafTu5Dbc')"
   ]
  },
  {
   "cell_type": "code",
   "execution_count": 31,
   "metadata": {},
   "outputs": [],
   "source": [
    "chat_completion = client.chat.completions.create(\n",
    "    model=\"gpt-4o-mini\",\n",
    "    messages=[{\"role\": \"user\", \"content\": \"Hello world\"}]\n",
    ")"
   ]
  },
  {
   "cell_type": "code",
   "execution_count": 32,
   "metadata": {},
   "outputs": [
    {
     "data": {
      "text/plain": [
       "'Hello! How can I assist you today?'"
      ]
     },
     "execution_count": 32,
     "metadata": {},
     "output_type": "execute_result"
    }
   ],
   "source": [
    "chat_completion.choices[0].message.content\n"
   ]
  },
  {
   "cell_type": "code",
   "execution_count": 34,
   "metadata": {},
   "outputs": [],
   "source": [
    "# Building Agent\n",
    "class Agent:\n",
    "    def __init__(self, system=\"\"):\n",
    "        self.system =system \n",
    "        self.messages = []\n",
    "        if self.system:\n",
    "            self.messages.append({\"role\": \"system\", \"content\": system})\n",
    "\n",
    "    def __call__(self, message):\n",
    "        self.messages.append({\"role\": \"user\", \"content\": message})\n",
    "        result = self.execute()\n",
    "        self.messages.append({\"role\": \"assistant\", \"content\": result})\n",
    "        return result \n",
    "    \n",
    "    def execute(self):\n",
    "        completion = client.chat.completions.create(\n",
    "            model=\"gpt-4o-mini\", \n",
    "            temperature=0.5,\n",
    "            messages=self.messages)\n",
    "        return completion.choices[0].message.content \n"
   ]
  },
  {
   "cell_type": "code",
   "execution_count": 46,
   "metadata": {},
   "outputs": [],
   "source": [
    "prompt = \"\"\"\n",
    "You run in a loop of Thought, Action, PAUSE, Observation.\n",
    "At the end of the loop you output an Answer\n",
    "Use Thought to describe your thoughts about the question you have been asked.\n",
    "Use Action to run one of the actions available to you - then return PAUSE.\n",
    "Observation will be the result of running those actions.\n",
    "\n",
    "Your available actions are:\n",
    "\n",
    "calculate:\n",
    "e.g. calculate: 4 * 7 / 3\n",
    "Runs a calculation and returns the number - uses Python so be sure to use floating point syntax if necessary\n",
    "\n",
    "average_dog_weight:\n",
    "e.g. average_dog_weight: Collie\n",
    "returns average weight of a dog when given the breed\n",
    "\n",
    "Example session:\n",
    "\n",
    "Question: How much does a Bulldog weigh?\n",
    "Thought: I should look the dogs weight using average_dog_weight\n",
    "Action: average_dog_weight: Bulldog\n",
    "PAUSE\n",
    "\n",
    "You will be called again with this:\n",
    "\n",
    "Observation: A Bulldog weights 51 lbs\n",
    "\n",
    "You then output:\n",
    "\n",
    "Answer: A bulldog weights 51 lbs\n",
    "\"\"\".strip()\n",
    "\n",
    "def calculate(what):\n",
    "    return eval(what)\n",
    "\n",
    "def average_dog_weight(name):\n",
    "    if name in \"Scottish Terrier\":\n",
    "        return (\"Scottish Terrier average weight is 20 lbs\")\n",
    "    elif name in \"Border Collie\":\n",
    "        return (\"Border Collie average weight is 37 lbs\")\n",
    "    elif name in \"Toy Poodle\":\n",
    "        return (\"Toy Poodle average weight is 7 lbs\")\n",
    "    else:\n",
    "        return (\"An average dog weights 50 lbs\")\n",
    "    \n",
    "known_actions = {\n",
    "    \"calculate\": calculate, \n",
    "    \"average_dog_weight\": average_dog_weight\n",
    "}"
   ]
  },
  {
   "cell_type": "code",
   "execution_count": 47,
   "metadata": {},
   "outputs": [],
   "source": [
    "abot = Agent(prompt)"
   ]
  },
  {
   "cell_type": "code",
   "execution_count": 48,
   "metadata": {},
   "outputs": [
    {
     "name": "stdout",
     "output_type": "stream",
     "text": [
      "Thought: I need to find the average weight of a Toy Poodle using the average_dog_weight action. \n",
      "Action: average_dog_weight: Toy Poodle\n",
      "PAUSE\n"
     ]
    }
   ],
   "source": [
    "result = abot(\"How much does a toy poodle weight?\")\n",
    "print(result)"
   ]
  },
  {
   "cell_type": "code",
   "execution_count": 49,
   "metadata": {},
   "outputs": [
    {
     "name": "stdout",
     "output_type": "stream",
     "text": [
      "Toy Poodle average weight is 7 lbs\n"
     ]
    }
   ],
   "source": [
    "result = average_dog_weight(\"Toy Poodle\")\n",
    "print(result)"
   ]
  },
  {
   "cell_type": "code",
   "execution_count": 50,
   "metadata": {},
   "outputs": [
    {
     "data": {
      "text/plain": [
       "'Answer: The average weight of a Toy Poodle is typically around 6 to 9 lbs.'"
      ]
     },
     "execution_count": 50,
     "metadata": {},
     "output_type": "execute_result"
    }
   ],
   "source": [
    "next_prompt = \"Observation: {}.format(result)\"\n",
    "abot(next_prompt)"
   ]
  },
  {
   "cell_type": "code",
   "execution_count": 51,
   "metadata": {},
   "outputs": [
    {
     "data": {
      "text/plain": [
       "[{'role': 'system',\n",
       "  'content': 'You run in a loop of Thought, Action, PAUSE, Observation.\\nAt the end of the loop you output an Answer\\nUse Thought to describe your thoughts about the question you have been asked.\\nUse Action to run one of the actions available to you - then return PAUSE.\\nObservation will be the result of running those actions.\\n\\nYour available actions are:\\n\\ncalculate:\\ne.g. calculate: 4 * 7 / 3\\nRuns a calculation and returns the number - uses Python so be sure to use floating point syntax if necessary\\n\\naverage_dog_weight:\\ne.g. average_dog_weight: Collie\\nreturns average weight of a dog when given the breed\\n\\nExample session:\\n\\nQuestion: How much does a Bulldog weigh?\\nThought: I should look the dogs weight using average_dog_weight\\nAction: average_dog_weight: Bulldog\\nPAUSE\\n\\nYou will be called again with this:\\n\\nObservation: A Bulldog weights 51 lbs\\n\\nYou then output:\\n\\nAnswer: A bulldog weights 51 lbs'},\n",
       " {'role': 'user', 'content': 'How much does a toy poodle weight?'},\n",
       " {'role': 'assistant',\n",
       "  'content': 'Thought: I need to find the average weight of a Toy Poodle using the average_dog_weight action. \\nAction: average_dog_weight: Toy Poodle\\nPAUSE'},\n",
       " {'role': 'user', 'content': 'Observation: {}.format(result)'},\n",
       " {'role': 'assistant',\n",
       "  'content': 'Answer: The average weight of a Toy Poodle is typically around 6 to 9 lbs.'}]"
      ]
     },
     "execution_count": 51,
     "metadata": {},
     "output_type": "execute_result"
    }
   ],
   "source": [
    "abot.messages"
   ]
  },
  {
   "cell_type": "code",
   "execution_count": 52,
   "metadata": {},
   "outputs": [],
   "source": [
    "abot =  Agent(prompt)"
   ]
  },
  {
   "cell_type": "code",
   "execution_count": 53,
   "metadata": {},
   "outputs": [
    {
     "data": {
      "text/plain": [
       "\"Thought: To find the combined weight of the two dogs, I need to determine the average weight of each breed first, then sum those weights together. I'll start by getting the average weight for the Border Collie and the Scottish Terrier. \\n\\nAction: average_dog_weight: Border Collie\\nPAUSE\""
      ]
     },
     "execution_count": 53,
     "metadata": {},
     "output_type": "execute_result"
    }
   ],
   "source": [
    "question = \"\"\"I have 2 dogs, a border collie and scottish terrier. \\ What is their combined weight?\"\"\"\n",
    "abot(question)"
   ]
  },
  {
   "cell_type": "code",
   "execution_count": 54,
   "metadata": {},
   "outputs": [
    {
     "name": "stdout",
     "output_type": "stream",
     "text": [
      "Observation: Border Collie average weight is 37 lbs\n"
     ]
    },
    {
     "data": {
      "text/plain": [
       "'Thought: Now that I have the average weight of the Border Collie, I need to find the average weight of the Scottish Terrier to calculate their combined weight.\\n\\nAction: average_dog_weight: Scottish Terrier\\nPAUSE'"
      ]
     },
     "execution_count": 54,
     "metadata": {},
     "output_type": "execute_result"
    }
   ],
   "source": [
    "next_prompt = \"Observation: {}\".format(average_dog_weight(\"Border Collie\"))\n",
    "print(next_prompt)\n",
    "abot(next_prompt)"
   ]
  },
  {
   "cell_type": "code",
   "execution_count": 55,
   "metadata": {},
   "outputs": [
    {
     "name": "stdout",
     "output_type": "stream",
     "text": [
      "Observation: Scottish Terrier average weight is 20 lbs\n"
     ]
    },
    {
     "data": {
      "text/plain": [
       "'Thought: I now have the average weights for both dogs: the Border Collie weighs 37 lbs and the Scottish Terrier weighs 20 lbs. To find their combined weight, I will add these two weights together.\\n\\nAction: calculate: 37 + 20\\nPAUSE'"
      ]
     },
     "execution_count": 55,
     "metadata": {},
     "output_type": "execute_result"
    }
   ],
   "source": [
    "next_prompt = \"Observation: {}\".format(average_dog_weight(\"Scottish Terrier\"))\n",
    "print(next_prompt)\n",
    "abot(next_prompt)"
   ]
  },
  {
   "cell_type": "code",
   "execution_count": 56,
   "metadata": {},
   "outputs": [
    {
     "name": "stdout",
     "output_type": "stream",
     "text": [
      "Observation: 57\n"
     ]
    },
    {
     "data": {
      "text/plain": [
       "'Answer: The combined weight of a Border Collie and a Scottish Terrier is 57 lbs.'"
      ]
     },
     "execution_count": 56,
     "metadata": {},
     "output_type": "execute_result"
    }
   ],
   "source": [
    "next_prompt = \"Observation: {}\".format(calculate(\"37 + 20\")) \n",
    "print(next_prompt)\n",
    "abot(next_prompt)"
   ]
  },
  {
   "cell_type": "markdown",
   "metadata": {},
   "source": [
    "## Bulding ReAct Agent"
   ]
  },
  {
   "cell_type": "code",
   "execution_count": 70,
   "metadata": {},
   "outputs": [],
   "source": [
    "## Prompt: You can change this for a different pourpose\n",
    "prompt = \"\"\"\n",
    "You run in a loop of Thought, Action, PAUSE, Observation.\n",
    "At the end of the loop you output an Answer\n",
    "Use Thought to describe your thoughts about the question you have been asked.\n",
    "Use Action to run one of the actions available to you - then return PAUSE.\n",
    "Observation will be the result of running those actions.\n",
    "\n",
    "Your available actions are:\n",
    "\n",
    "calculate:\n",
    "e.g. calculate: 4 * 7 / 3\n",
    "Runs a calculation and returns the number - uses Python so be sure to use floating point syntax if necessary\n",
    "\n",
    "average_dog_weight:\n",
    "e.g. average_dog_weight: Collie\n",
    "returns average weight of a dog when given the breed\n",
    "\n",
    "Example session:\n",
    "\n",
    "Question: How much does a Bulldog weigh?\n",
    "Thought: I should look the dogs weight using average_dog_weight\n",
    "Action: average_dog_weight: Bulldog\n",
    "PAUSE\n",
    "\n",
    "You will be called again with this:\n",
    "\n",
    "Observation: A Bulldog weights 51 lbs\n",
    "\n",
    "You then output:\n",
    "\n",
    "Answer: A bulldog weights 51 lbs\n",
    "\"\"\".strip()\n",
    "\n",
    "## Helper functions: Need to be aligned with the problem prompt\n",
    "def calculate(what):\n",
    "    return eval(what)\n",
    "\n",
    "def average_dog_weight(name):\n",
    "    if name in \"Scottish Terrier\":\n",
    "        return (\"Scottish Terrier average weight is 20 lbs\")\n",
    "    elif name in \"Border Collie\":\n",
    "        return (\"Border Collie average weight is 37 lbs\")\n",
    "    elif name in \"Toy Poodle\":\n",
    "        return (\"Toy Poodle average weight is 7 lbs\")\n",
    "    else:\n",
    "        return (\"An average dog weights 50 lbs\")\n",
    "    \n",
    "class Agent:\n",
    "    def __init__(self, system=\"\"):\n",
    "        self.system = system\n",
    "        self.messages = []\n",
    "        if self.system:\n",
    "            self.messages.append({\"role\": \"system\", \"content\": system})\n",
    "\n",
    "    def __call__(self, message):\n",
    "        self.messages.append({\"role\": \"user\", \"content\": message})\n",
    "        result = self.execute()\n",
    "        self.messages.append({\"role\": \"assistant\", \"content\": result})\n",
    "        return result\n",
    "\n",
    "    def execute(self):\n",
    "        completion = client.chat.completions.create(\n",
    "            model=\"gpt-4o-mini\", \n",
    "            temperature=0.5,\n",
    "            messages=self.messages)\n",
    "        return completion.choices[0].message.content \n",
    "\n",
    "# ReActAgent Class\n",
    "class ReActAgent(Agent):\n",
    "    def __init__(self, system=\"\"):\n",
    "        super().__init__(system)\n",
    "        self.action_re = re.compile(r'^Action: (\\w+): (.*)$')\n",
    "        self.known_actions = {\n",
    "            \"calculate\": calculate,\n",
    "            \"average_dog_weight\": average_dog_weight\n",
    "        }\n",
    "\n",
    "    def process(self, prompt, question, max_turn=5):\n",
    "        i = 0\n",
    "        next_prompt = question\n",
    "        while i < max_turn:\n",
    "            i += 1\n",
    "            result = self(next_prompt)\n",
    "            print(result)\n",
    "            actions = [self.action_re.match(a) for a in result.split('\\n') if self.action_re.match(a)]\n",
    "            if actions:\n",
    "                action, action_input = actions[0].groups()\n",
    "                if action not in self.known_actions:\n",
    "                    raise Exception(f\"Unknown action: {action}: {action_input}\")\n",
    "                print(f\"-- running {action} {action_input}\")\n",
    "                observation = self.known_actions[action](action_input)\n",
    "                print(\"Observation:\", observation)\n",
    "                next_prompt = f\"Observation: {observation}\"\n",
    "            else:\n",
    "                return"
   ]
  },
  {
   "cell_type": "code",
   "execution_count": 69,
   "metadata": {},
   "outputs": [
    {
     "name": "stdout",
     "output_type": "stream",
     "text": [
      "The combined weight of your two dogs, a Border Collie and a Scottish Terrier, can vary based on their individual sizes and health. On average, a Border Collie typically weighs between 30 to 45 pounds (13 to 20 kg), while a Scottish Terrier usually weighs around 18 to 22 pounds (8 to 10 kg). \n",
      "\n",
      "If we take an average weight for each breed, we can estimate:\n",
      "\n",
      "- Border Collie: approximately 37.5 pounds (17 kg)\n",
      "- Scottish Terrier: approximately 20 pounds (9 kg)\n",
      "\n",
      "Adding these together gives a combined weight of about 57.5 pounds (26 kg). \n",
      "\n",
      "For a more accurate estimate, you would need to weigh each dog individually.\n"
     ]
    }
   ],
   "source": [
    "react_agent = ReActAgent()\n",
    "question = \"\"\"I have 2 dogs, a border collie and a scottish terrier. What is their combined weight\"\"\"\n",
    "\n",
    "react_agent.process(prompt, f\"Question: {question}\")"
   ]
  },
  {
   "cell_type": "code",
   "execution_count": null,
   "metadata": {},
   "outputs": [],
   "source": []
  }
 ],
 "metadata": {
  "kernelspec": {
   "display_name": "Python 3",
   "language": "python",
   "name": "python3"
  },
  "language_info": {
   "codemirror_mode": {
    "name": "ipython",
    "version": 3
   },
   "file_extension": ".py",
   "mimetype": "text/x-python",
   "name": "python",
   "nbconvert_exporter": "python",
   "pygments_lexer": "ipython3",
   "version": "3.11.9"
  }
 },
 "nbformat": 4,
 "nbformat_minor": 2
}
